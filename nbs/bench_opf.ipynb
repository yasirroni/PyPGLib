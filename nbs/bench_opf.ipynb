{
 "cells": [
  {
   "cell_type": "code",
   "execution_count": 19,
   "metadata": {},
   "outputs": [],
   "source": [
    "import glob\n",
    "import os\n",
    "\n",
    "from matpower import start_instance\n",
    "from oct2py.core import Oct2PyError\n",
    "\n",
    "from pypglib import PATH_PYPGLIB"
   ]
  },
  {
   "cell_type": "code",
   "execution_count": 3,
   "metadata": {},
   "outputs": [],
   "source": [
    "m = start_instance()"
   ]
  },
  {
   "cell_type": "code",
   "execution_count": null,
   "metadata": {},
   "outputs": [],
   "source": [
    "PG = 1  # index for PG\n",
    "opf_dir = os.path.join(PATH_PYPGLIB, \"opf\")\n",
    "mpopt = m.mpoption(\"verbose\", 0, \"out.all\", 0)\n",
    "m.push(\"_mpopt\", mpopt)\n",
    "\n",
    "for file_path in glob.glob(os.path.join(opf_dir, \"**\", \"*.m\"), recursive=True)[:3]:\n",
    "    mpc = m.loadcase(file_path)\n",
    "    try:\n",
    "        m.push(\"_mpc\", mpc)\n",
    "        m.eval(\"_r1 = runopf(_mpc, _mpopt);\", verbose=False)\n",
    "        sol = {\n",
    "            \"baseMVA\": mpc.baseMVA,\n",
    "            \"version\": mpc.version,\n",
    "            \"bus\": m.eval(\"_r1.bus;\", verbose=False),\n",
    "            \"gen\": m.eval(\"_r1.gen;\", verbose=False),\n",
    "            \"branch\": m.eval(\"_r1.branch;\", verbose=False),\n",
    "            \"gencost\": mpc.gencost,\n",
    "            \"success\": m.eval(\"_r1.success;\", verbose=False),\n",
    "        }\n",
    "        if sol[\"success\"] == 1:\n",
    "            sol_ed = m.runpf(sol, mpopt, verbose=False)\n",
    "            if sol[\"success\"] == 1:\n",
    "                status = \"Success\"\n",
    "                cost = m.totcost(sol[\"gencost\"], sol[\"gen\"][:, [PG]]).sum()\n",
    "            else:\n",
    "                status = \"Not Converge\"\n",
    "                cost = \"--\"\n",
    "        else:\n",
    "            status = \"Infeasible\"\n",
    "            cost = \"inf\"  # infeasible solution\n",
    "    except Oct2PyError:\n",
    "        status = \"Error\"\n",
    "        cost = \"Err\"\n",
    "    print(file_path)\n",
    "    print(status)"
   ]
  },
  {
   "cell_type": "code",
   "execution_count": null,
   "metadata": {},
   "outputs": [],
   "source": [
    "# import scipy.io\n",
    "# import julia\n",
    "# from julia import Main\n",
    "\n",
    "# # Initialize Julia and load the required packages\n",
    "# julia.Julia(compiled_modules=False)\n",
    "# Main.eval(\n",
    "# \"\"\"\n",
    "# using JuMP, PowerModels, Ipopt\n",
    "# solver = optimizer_with_attributes(Ipopt.Optimizer, \"tol\"=>1e-6)\n",
    "# \"\"\"\n",
    "# )\n",
    "\n",
    "# # List of case files to run (replace with actual .mat file paths or data objects)\n",
    "# case_files = [\"case1.mat\", \"case2.mat\", \"case3.mat\"]\n",
    "\n",
    "# # To store the results\n",
    "# results = []\n",
    "\n",
    "# # Loop through each case and run the optimization\n",
    "# for case_file in case_files:\n",
    "#     # Load the .mat file using scipy.io in Python\n",
    "#     mat_data = scipy.io.loadmat(case_file)\n",
    "\n",
    "#     # Pass the .mat data to Julia\n",
    "#     Main.mat_data = mat_data\n",
    "\n",
    "#     # Run the AC Optimal Power Flow in Julia and capture the result\n",
    "#     result = Main.eval('run_ac_opf(mat_data, solver)')\n",
    "\n",
    "#     # Store the result in the Python results list\n",
    "#     results.append(result)\n",
    "\n",
    "# # Now `results` contains the optimization results for each case\n",
    "# for i, res in enumerate(results):\n",
    "#     print(f\"Result for case {i+1}: {res}\")"
   ]
  },
  {
   "cell_type": "code",
   "execution_count": null,
   "metadata": {},
   "outputs": [],
   "source": []
  }
 ],
 "metadata": {
  "kernelspec": {
   "display_name": "env",
   "language": "python",
   "name": "python3"
  },
  "language_info": {
   "codemirror_mode": {
    "name": "ipython",
    "version": 3
   },
   "file_extension": ".py",
   "mimetype": "text/x-python",
   "name": "python",
   "nbconvert_exporter": "python",
   "pygments_lexer": "ipython3",
   "version": "3.12.4"
  }
 },
 "nbformat": 4,
 "nbformat_minor": 2
}
