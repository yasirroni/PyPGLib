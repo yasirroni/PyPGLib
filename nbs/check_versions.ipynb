{
 "cells": [
  {
   "cell_type": "code",
   "execution_count": 1,
   "metadata": {},
   "outputs": [],
   "source": [
    "from pypglib import (\n",
    "    __VERSION_PYPGLIB_HVDC__,\n",
    "    __VERSION_PYPGLIB_OPF__,\n",
    "    __VERSION_PYPGLIB_UC__,\n",
    "    __version__,\n",
    ")"
   ]
  },
  {
   "cell_type": "code",
   "execution_count": 2,
   "metadata": {},
   "outputs": [
    {
     "data": {
      "text/plain": [
       "('23.09', '23.07', '19.08', '0.0.3')"
      ]
     },
     "execution_count": 2,
     "metadata": {},
     "output_type": "execute_result"
    }
   ],
   "source": [
    "(\n",
    "    __VERSION_PYPGLIB_HVDC__,\n",
    "    __VERSION_PYPGLIB_OPF__,\n",
    "    __VERSION_PYPGLIB_UC__,\n",
    "    __version__,\n",
    ")"
   ]
  },
  {
   "cell_type": "code",
   "execution_count": null,
   "metadata": {},
   "outputs": [],
   "source": []
  }
 ],
 "metadata": {
  "kernelspec": {
   "display_name": "env",
   "language": "python",
   "name": "python3"
  },
  "language_info": {
   "codemirror_mode": {
    "name": "ipython",
    "version": 3
   },
   "file_extension": ".py",
   "mimetype": "text/x-python",
   "name": "python",
   "nbconvert_exporter": "python",
   "pygments_lexer": "ipython3",
   "version": "3.12.4"
  }
 },
 "nbformat": 4,
 "nbformat_minor": 2
}
